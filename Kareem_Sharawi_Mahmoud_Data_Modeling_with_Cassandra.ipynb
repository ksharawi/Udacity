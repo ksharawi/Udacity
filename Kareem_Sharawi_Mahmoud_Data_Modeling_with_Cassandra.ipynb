{
 "cells": [
  {
   "cell_type": "markdown",
   "metadata": {},
   "source": [
    "# Part I. ETL Pipeline for Pre-Processing the Files"
   ]
  },
  {
   "cell_type": "markdown",
   "metadata": {},
   "source": [
    "## PLEASE RUN THE FOLLOWING CODE FOR PRE-PROCESSING THE FILES"
   ]
  },
  {
   "cell_type": "markdown",
   "metadata": {},
   "source": [
    "#### Import Python packages "
   ]
  },
  {
   "cell_type": "code",
   "execution_count": 381,
   "metadata": {},
   "outputs": [],
   "source": [
    "# Import Python packages \n",
    "import pandas as pd\n",
    "import cassandra\n",
    "import re\n",
    "import os\n",
    "import glob\n",
    "import numpy as np\n",
    "import json\n",
    "import csv\n",
    "from decimal import Decimal # To be able to convert string field from csv file into decimal. \n",
    "from cassandra.query import named_tuple_factory\n",
    "from cassandra.query import dict_factory # To work with Panda dataframe."
   ]
  },
  {
   "cell_type": "markdown",
   "metadata": {},
   "source": [
    "#### Creating list of filepaths to process original event csv data files"
   ]
  },
  {
   "cell_type": "code",
   "execution_count": 382,
   "metadata": {},
   "outputs": [
    {
     "name": "stdout",
     "output_type": "stream",
     "text": [
      "/workspace/home\n"
     ]
    }
   ],
   "source": [
    "# checking your current working directory\n",
    "print(os.getcwd())\n",
    "\n",
    "# Get your current folder and subfolder event data\n",
    "filepath = os.getcwd() + '/event_data'\n",
    "\n",
    "# Create a for loop to create a list of files and collect each filepath\n",
    "for root, dirs, files in os.walk(filepath):\n",
    "    \n",
    "# join the file path and roots with the subdirectories using glob\n",
    "    file_path_list = glob.glob(os.path.join(root,'*'))\n",
    "    #print(file_path_list)"
   ]
  },
  {
   "cell_type": "markdown",
   "metadata": {},
   "source": [
    "#### Processing the files to create the data file csv that will be used for Apache Casssandra tables"
   ]
  },
  {
   "cell_type": "code",
   "execution_count": 383,
   "metadata": {},
   "outputs": [],
   "source": [
    "# initiating an empty list of rows that will be generated from each file\n",
    "full_data_rows_list = [] \n",
    "    \n",
    "# for every filepath in the file path list \n",
    "for f in file_path_list:\n",
    "\n",
    "# reading csv file \n",
    "    with open(f, 'r', encoding = 'utf8', newline='') as csvfile: \n",
    "        # creating a csv reader object \n",
    "        csvreader = csv.reader(csvfile) \n",
    "        next(csvreader)\n",
    "        \n",
    " # extracting each data row one by one and append it        \n",
    "        for line in csvreader:\n",
    "            #print(line)\n",
    "            full_data_rows_list.append(line) \n",
    "            \n",
    "# uncomment the code below if you would like to get total number of rows \n",
    "#print(len(full_data_rows_list))\n",
    "# uncomment the code below if you would like to check to see what the list of event data rows will look like\n",
    "#print(full_data_rows_list)\n",
    "\n",
    "# creating a smaller event data csv file called event_datafile_full csv that will be used to insert data into the \\\n",
    "# Apache Cassandra tables\n",
    "csv.register_dialect('myDialect', quoting=csv.QUOTE_ALL, skipinitialspace=True)\n",
    "\n",
    "with open('event_datafile_new.csv', 'w', encoding = 'utf8', newline='') as f:\n",
    "    writer = csv.writer(f, dialect='myDialect')\n",
    "    writer.writerow(['artist','firstName','gender','itemInSession','lastName','length',\\\n",
    "                'level','location','sessionId','song','userId'])\n",
    "    for row in full_data_rows_list:\n",
    "        if (row[0] == ''):\n",
    "            continue\n",
    "        writer.writerow((row[0], row[2], row[3], row[4], row[5], row[6], row[7], row[8], row[12], row[13], row[16]))\n"
   ]
  },
  {
   "cell_type": "code",
   "execution_count": 384,
   "metadata": {},
   "outputs": [
    {
     "name": "stdout",
     "output_type": "stream",
     "text": [
      "6821\n"
     ]
    }
   ],
   "source": [
    "# check the number of rows in your csv file\n",
    "with open('event_datafile_new.csv', 'r', encoding = 'utf8') as f:\n",
    "    print(sum(1 for line in f))"
   ]
  },
  {
   "cell_type": "markdown",
   "metadata": {},
   "source": [
    "# Part II. Complete the Apache Cassandra coding portion of your project. \n",
    "\n",
    "## Now you are ready to work with the CSV file titled <font color=red>event_datafile_new.csv</font>, located within the Workspace directory.  The event_datafile_new.csv contains the following columns: \n",
    "- artist \n",
    "- firstName of user\n",
    "- gender of user\n",
    "- item number in session\n",
    "- last name of user\n",
    "- length of the song\n",
    "- level (paid or free song)\n",
    "- location of the user\n",
    "- sessionId\n",
    "- song title\n",
    "- userId\n",
    "\n",
    "The image below is a screenshot of what the denormalized data should appear like in the <font color=red>**event_datafile_new.csv**</font> after the code above is run:<br>\n",
    "\n",
    "<img src=\"images/image_event_datafile_new.jpg\">"
   ]
  },
  {
   "cell_type": "markdown",
   "metadata": {},
   "source": [
    "## Begin writing your Apache Cassandra code in the cells below"
   ]
  },
  {
   "cell_type": "markdown",
   "metadata": {},
   "source": [
    "#### Creating a Cluster"
   ]
  },
  {
   "cell_type": "code",
   "execution_count": 385,
   "metadata": {},
   "outputs": [],
   "source": [
    "# This should make a connection to a Cassandra instance your local machine \n",
    "# (127.0.0.1)\n",
    "\n",
    "from cassandra.cluster import Cluster\n",
    "cluster = Cluster()\n",
    "\n",
    "# To establish connection and begin executing queries, need a session\n",
    "session = cluster.connect()"
   ]
  },
  {
   "cell_type": "markdown",
   "metadata": {},
   "source": [
    "#### Create Keyspace"
   ]
  },
  {
   "cell_type": "code",
   "execution_count": 386,
   "metadata": {},
   "outputs": [],
   "source": [
    "# I have chosen the Keyspace name to be the same as the startup's!\n",
    "try:\n",
    "    session.execute(\"\"\"\n",
    "    CREATE KEYSPACE IF NOT EXISTS sparkify \n",
    "    WITH REPLICATION = \n",
    "    { 'class' : 'SimpleStrategy', 'replication_factor' : 1 }\"\"\"\n",
    ")\n",
    "\n",
    "except Exception as e:\n",
    "    print(e)"
   ]
  },
  {
   "cell_type": "markdown",
   "metadata": {},
   "source": [
    "#### Set Keyspace"
   ]
  },
  {
   "cell_type": "code",
   "execution_count": 387,
   "metadata": {},
   "outputs": [],
   "source": [
    "try:\n",
    "    session.set_keyspace('sparkify')\n",
    "except Exception as e:\n",
    "    print(e)"
   ]
  },
  {
   "cell_type": "markdown",
   "metadata": {},
   "source": [
    "### Now we need to create tables to run the following queries. Remember, with Apache Cassandra you model the database tables on the queries you want to run."
   ]
  },
  {
   "cell_type": "markdown",
   "metadata": {},
   "source": [
    "## Create queries to ask the following three questions of the data\n",
    "\n",
    "### 1. Give me the artist, song title and song's length in the music app history that was heard during  sessionId = 338, and itemInSession  = 4\n",
    "\n",
    "\n",
    "### 2. Give me only the following: name of artist, song (sorted by itemInSession) and user (first and last name) for userid = 10, sessionid = 182\n",
    "    \n",
    "\n",
    "### 3. Give me every user name (first and last) in my music app history who listened to the song 'All Hands Against His Own'\n",
    "\n",
    "\n"
   ]
  },
  {
   "cell_type": "markdown",
   "metadata": {},
   "source": [
    "## Answers:\n",
    "\n",
    "### A1. Give me the artist, song title and song's length in the music app history that was heard during  sessionId = 338, and itemInSession  = 4"
   ]
  },
  {
   "cell_type": "code",
   "execution_count": 388,
   "metadata": {},
   "outputs": [],
   "source": [
    "# Drop table \"musicAppHistory_session_itemInSession\" if it already exists.\n",
    "drop_table_if_exists = \"DROP TABLE IF EXISTS musicAppHistory_session_itemInSession\"\n",
    "\n",
    "try:\n",
    "    session.execute(drop_table_if_exists)\n",
    "except Exception as e:\n",
    "    print(e)"
   ]
  },
  {
   "cell_type": "code",
   "execution_count": 389,
   "metadata": {},
   "outputs": [],
   "source": [
    "# Create table \"musicAppHistory_session_itemInSession\".\n",
    "# The Partition Key is \"sessionId\" since it forms the core object of the table based on which it gets distributed.\n",
    "# The Primary Key is made up of the Partition Key \"sessionID\" and the Clustering Column \"itemInSession\" since this\n",
    "## composite key makes the Primary Key unique.\n",
    "create_table_query = \"CREATE TABLE IF NOT EXISTS musicAppHistory_session_itemInSession\"\n",
    "create_table_query = create_table_query + \"(sessionId int, itemInSession int, artistName text, songName text, songLength decimal, PRIMARY KEY (sessionId, itemInSession))\"\n",
    "\n",
    "try:\n",
    "    session.execute(create_table_query)\n",
    "except Exception as e:\n",
    "    print(e)"
   ]
  },
  {
   "cell_type": "code",
   "execution_count": 390,
   "metadata": {
    "scrolled": false
   },
   "outputs": [],
   "source": [
    "# Open local file \"event_datafile_new.csv\".\n",
    "file = 'event_datafile_new.csv'\n",
    "\n",
    "# Read line by line from the file and insert the selected fields from the line into the table.\n",
    "with open(file, encoding = 'utf8') as f:\n",
    "    csvreader = csv.reader(f)# Read line by line from the file.\n",
    "    next(csvreader) # skip header.\n",
    "    for line in csvreader:\n",
    "        \n",
    "#insert the selected fields from the line into table \"musicAppHistory_session_itemInSession\".\n",
    "        insert_into_query = \"INSERT INTO musicAppHistory_session_itemInSession (sessionId, itemInSession, artistName, songName, songLength)\"\n",
    "        insert_into_query  = insert_into_query + \"VALUES (%s, %s, %s, %s, %s)\"\n",
    "        # Notice the inline data type conversion from string to integer and decimal.\n",
    "        try:\n",
    "            session.execute(insert_into_query, (int(line[8]), int(line[3]), line[0], line[9], Decimal(line[5])))\n",
    "        except Exception as e:\n",
    "            print(e)\n"
   ]
  },
  {
   "cell_type": "code",
   "execution_count": 391,
   "metadata": {
    "scrolled": true
   },
   "outputs": [
    {
     "name": "stdout",
     "output_type": "stream",
     "text": [
      ">>  Session ID:  338  ||  Item in Session:  4  ||  Artist Name:  Faithless  ||  Song Name:  Music Matters (Mark Knight Dub)  ||  Song Length:  495.3073  <<\n"
     ]
    }
   ],
   "source": [
    "# Run select statement to provide answer.\n",
    "query = \"SELECT * FROM musicAppHistory_session_itemInSession WHERE sessionId=338 AND itemInSession=4\"\n",
    "\n",
    "try:\n",
    "    session.row_factory = named_tuple_factory\n",
    "    rows = session.execute(query)\n",
    "except Exception as e:\n",
    "    print(e)\n",
    "    \n",
    "#     \n",
    "for row in rows:\n",
    "    # Notice that the column names returned in \"rows\" are automatically changed to all lower case (e.g. sessionId\n",
    "    ## gives an error)\n",
    "    print (\">> \", \"Session ID: \", row.sessionid, \" || \", \"Item in Session: \", row.iteminsession, \" || \", \"Artist Name: \", row.artistname, \" || \", \"Song Name: \", row.songname, \" || \", \"Song Length: \", row.songlength, \" <<\")"
   ]
  },
  {
   "cell_type": "code",
   "execution_count": 392,
   "metadata": {
    "scrolled": true
   },
   "outputs": [
    {
     "name": "stdout",
     "output_type": "stream",
     "text": [
      "   sessionid  iteminsession artistname songlength  \\\n",
      "0        338              4  Faithless   495.3073   \n",
      "\n",
      "                          songname  \n",
      "0  Music Matters (Mark Knight Dub)  \n"
     ]
    }
   ],
   "source": [
    "# Run select statement to provide answer with Panda (ref https://groups.google.com/a/lists.datastax.com/g/python-driver-user/c/1v-KHtyA0Zs).\n",
    "query = \"SELECT * FROM musicAppHistory_session_itemInSession WHERE sessionId=338 AND itemInSession=4\"\n",
    "try:\n",
    "    session.row_factory = dict_factory\n",
    "    df = pd.DataFrame()\n",
    "    for row in session.execute(query):\n",
    "        df = pd.DataFrame(row, index=[0])\n",
    "        print(df)\n",
    "    df = df.reset_index(drop=True).fillna(pd.np.nan)\n",
    "    \n",
    "except Exception as e:\n",
    "    print(e)"
   ]
  },
  {
   "cell_type": "markdown",
   "metadata": {},
   "source": [
    "### A2. Give me only the following: name of artist, song (sorted by itemInSession) and user (first and last name) for userid = 10, sessionid = 182"
   ]
  },
  {
   "cell_type": "code",
   "execution_count": 393,
   "metadata": {},
   "outputs": [],
   "source": [
    "# Drop table \"musicAppHistory_user_session_itemInSession\" if it already exists.\n",
    "drop_table_if_exists = \"DROP TABLE IF EXISTS musicAppHistory_user_session_itemInSession\"\n",
    "\n",
    "try:\n",
    "    session.execute(drop_table_if_exists)\n",
    "except Exception as e:\n",
    "    print(e)              "
   ]
  },
  {
   "cell_type": "code",
   "execution_count": 394,
   "metadata": {},
   "outputs": [],
   "source": [
    "# Create table \"musicAppHistory_user_session_itemInSession\".\n",
    "# The Partition Key is \"userId\" since it forms the core object of the table based on which it gets distributed.\n",
    "# The Primary Key is made up of the Partition Key \"userId\" and the Clustering Columns \"sessionId\" and \"itemInSession\" \n",
    "## since this composite key makes the Primary Key unique.\n",
    "create_table_query = \"CREATE TABLE IF NOT EXISTS musicAppHistory_user_session_itemInSession\"\n",
    "create_table_query = create_table_query + \"(userId int, sessionId int, itemInSession int, artistName text, songName text, userFirstName text, userLastName text, PRIMARY KEY (userId, sessionId, itemInSession))\"\n",
    "\n",
    "try:\n",
    "    session.execute(create_table_query)\n",
    "except Exception as e:\n",
    "    print(e)"
   ]
  },
  {
   "cell_type": "code",
   "execution_count": 395,
   "metadata": {
    "scrolled": false
   },
   "outputs": [],
   "source": [
    "# Open local file \"event_datafile_new.csv\".\n",
    "file = 'event_datafile_new.csv'\n",
    "\n",
    "# Read line by line from the file and insert the selected fields from the line into the table.\n",
    "with open(file, encoding = 'utf8') as f:\n",
    "    csvreader = csv.reader(f)# Read line by line from the file.\n",
    "    next(csvreader) # skip header.\n",
    "    for line in csvreader:\n",
    "        \n",
    "#insert the selected fields from the line into table \"musicAppHistory_user_session_itemInSession\".\n",
    "        insert_into_query = \"INSERT INTO musicAppHistory_user_session_itemInSession (userId, sessionId, itemInSession, artistName, songName, userFirstName, userLastName)\"\n",
    "        insert_into_query  = insert_into_query + \"VALUES (%s, %s, %s, %s, %s, %s, %s)\"\n",
    "        # Notice the inline data type conversion from string to integer.\n",
    "        try:\n",
    "            session.execute(insert_into_query, (int(line[10]), int(line[8]), int(line[3]), line[0], line[9], line[1], line[4]))\n",
    "        except Exception as e:\n",
    "            print(e)\n"
   ]
  },
  {
   "cell_type": "code",
   "execution_count": 396,
   "metadata": {
    "scrolled": true
   },
   "outputs": [
    {
     "name": "stdout",
     "output_type": "stream",
     "text": [
      ">>  User ID:  10  ||  Session ID:  182  ||  Item in Session:  0  ||  Artist Name:  Down To The Bone  ||  Song Name:  Keep On Keepin' On  ||  User First Name:  Sylvie  ||  User Last Name: Cruz  <<\n",
      ">>  User ID:  10  ||  Session ID:  182  ||  Item in Session:  1  ||  Artist Name:  Three Drives  ||  Song Name:  Greece 2000  ||  User First Name:  Sylvie  ||  User Last Name: Cruz  <<\n",
      ">>  User ID:  10  ||  Session ID:  182  ||  Item in Session:  2  ||  Artist Name:  Sebastien Tellier  ||  Song Name:  Kilometer  ||  User First Name:  Sylvie  ||  User Last Name: Cruz  <<\n",
      ">>  User ID:  10  ||  Session ID:  182  ||  Item in Session:  3  ||  Artist Name:  Lonnie Gordon  ||  Song Name:  Catch You Baby (Steve Pitron & Max Sanna Radio Edit)  ||  User First Name:  Sylvie  ||  User Last Name: Cruz  <<\n"
     ]
    }
   ],
   "source": [
    "# Run select statement to provide answer.\n",
    "query = \"SELECT * FROM musicAppHistory_user_session_itemInSession WHERE userId=10 AND sessionId=182\"\n",
    "\n",
    "try:\n",
    "    session.row_factory = named_tuple_factory\n",
    "    rows = session.execute(query)\n",
    "except Exception as e:\n",
    "    print(e)\n",
    "    \n",
    "#     \n",
    "for row in rows:\n",
    "    # Notice that the column names returned in \"rows\" are automatically changed to all lower case (e.g. sessionId\n",
    "    ## gives an error)\n",
    "    print (\">> \", \"User ID: \", row.userid, \" || \", \"Session ID: \", row.sessionid, \" || \", \"Item in Session: \", row.iteminsession, \" || \", \"Artist Name: \", row.artistname, \" || \", \"Song Name: \", row.songname, \" || \", \"User First Name: \", row.userfirstname, \" || \", \"User Last Name:\", row.userlastname, \" <<\")"
   ]
  },
  {
   "cell_type": "code",
   "execution_count": 397,
   "metadata": {
    "scrolled": true
   },
   "outputs": [
    {
     "name": "stdout",
     "output_type": "stream",
     "text": [
      "   userid  sessionid  iteminsession        artistname            songname  \\\n",
      "0      10        182              0  Down To The Bone  Keep On Keepin' On   \n",
      "\n",
      "  userfirstname userlastname  \n",
      "0        Sylvie         Cruz  \n",
      "   userid  sessionid  iteminsession    artistname     songname userfirstname  \\\n",
      "0      10        182              1  Three Drives  Greece 2000        Sylvie   \n",
      "\n",
      "  userlastname  \n",
      "0         Cruz  \n",
      "   userid  sessionid  iteminsession         artistname   songname  \\\n",
      "0      10        182              2  Sebastien Tellier  Kilometer   \n",
      "\n",
      "  userfirstname userlastname  \n",
      "0        Sylvie         Cruz  \n",
      "   userid  sessionid  iteminsession     artistname  \\\n",
      "0      10        182              3  Lonnie Gordon   \n",
      "\n",
      "                                            songname userfirstname  \\\n",
      "0  Catch You Baby (Steve Pitron & Max Sanna Radio...        Sylvie   \n",
      "\n",
      "  userlastname  \n",
      "0         Cruz  \n"
     ]
    }
   ],
   "source": [
    "# Run select statement to provide answer with Panda (ref https://groups.google.com/a/lists.datastax.com/g/python-driver-user/c/1v-KHtyA0Zs).\n",
    "query = \"SELECT * FROM musicAppHistory_user_session_itemInSession WHERE userId=10 AND sessionId=182\"\n",
    "try:\n",
    "    session.row_factory = dict_factory\n",
    "    df = pd.DataFrame()\n",
    "    for row in session.execute(query):\n",
    "        df = pd.DataFrame(row, index=[0])\n",
    "        print(df)\n",
    "    df = df.reset_index(drop=True).fillna(pd.np.nan)\n",
    "    \n",
    "except Exception as e:\n",
    "    print(e)"
   ]
  },
  {
   "cell_type": "markdown",
   "metadata": {},
   "source": [
    "### A3. Give me every user name (first and last) in my music app history who listened to the song 'All Hands Against His Own'"
   ]
  },
  {
   "cell_type": "code",
   "execution_count": 398,
   "metadata": {},
   "outputs": [],
   "source": [
    "# Drop table musicAppHistory_songName_userFirstName_userLastName\" if it already exists.\n",
    "drop_table_if_exists = \"DROP TABLE IF EXISTS musicAppHistory_songName_userName\"\n",
    "\n",
    "try:\n",
    "    session.execute(drop_table_if_exists)\n",
    "except Exception as e:\n",
    "    print(e)              "
   ]
  },
  {
   "cell_type": "code",
   "execution_count": 399,
   "metadata": {},
   "outputs": [],
   "source": [
    "# Create table \"musicAppHistory_songName_userName\".\n",
    "# The Partition Key is \"songName\" since it forms the core object of the table based on which it gets distributed.\n",
    "# The Primary Key is made up of the Partition Key \"songName\" and the Clustering Columns \"userFirstName\" and \n",
    "## \"itemInSession\". \n",
    "# While it is true that in the csv file there are duplicate rows formed from the composite fields \"songName\" and \n",
    "## \"userFirstName\" and \"userLastNames\", Cassandra uses an UPSERT (any existing row with a matching composite columns \n",
    "## value gets overwritten by the new inserted row), meaning that eventually we end up with a unique row in the table. \n",
    "create_table_query = \"CREATE TABLE IF NOT EXISTS musicAppHistory_songName_userName\"\n",
    "create_table_query = create_table_query + \"(songName text, userFirstName text, userLastName text, PRIMARY KEY (songName, userFirstName, userLastName))\"\n",
    "\n",
    "try:\n",
    "    session.execute(create_table_query)\n",
    "except Exception as e:\n",
    "    print(e)"
   ]
  },
  {
   "cell_type": "code",
   "execution_count": 400,
   "metadata": {
    "scrolled": false
   },
   "outputs": [],
   "source": [
    "# Open local file \"event_datafile_new.csv\".\n",
    "file = 'event_datafile_new.csv'\n",
    "\n",
    "# Read line by line from the file and insert the selected fields from the line into the table.\n",
    "with open(file, encoding = 'utf8') as f:\n",
    "    csvreader = csv.reader(f)# Read line by line from the file.\n",
    "    next(csvreader) # skip header.\n",
    "    for line in csvreader:\n",
    "        \n",
    "#insert the selected fields from the line into table \"musicAppHistory_songName_userName\".\n",
    "        insert_into_query = \"INSERT INTO musicAppHistory_songName_userName (songName, userFirstName, userLastName)\"\n",
    "        insert_into_query  = insert_into_query + \"VALUES (%s, %s, %s)\"\n",
    "        # Notice the inline data type conversion from string to integer.\n",
    "        try:\n",
    "            session.execute(insert_into_query, (line[9], line[1], line[4]))\n",
    "        except Exception as e:\n",
    "            print(e)\n"
   ]
  },
  {
   "cell_type": "code",
   "execution_count": 401,
   "metadata": {
    "scrolled": true
   },
   "outputs": [
    {
     "name": "stdout",
     "output_type": "stream",
     "text": [
      ">>  Song Name:  All Hands Against His Own  ||  User First Name:  Jacqueline  ||  User Last Name: Lynch  <<\n",
      ">>  Song Name:  All Hands Against His Own  ||  User First Name:  Sara  ||  User Last Name: Johnson  <<\n",
      ">>  Song Name:  All Hands Against His Own  ||  User First Name:  Tegan  ||  User Last Name: Levine  <<\n"
     ]
    }
   ],
   "source": [
    "# Run select statement to provide answer.\n",
    "query = \"SELECT * FROM musicAppHistory_songName_userName WHERE songName='All Hands Against His Own'\"\n",
    "\n",
    "try:\n",
    "    session.row_factory = named_tuple_factory\n",
    "    rows = session.execute(query)\n",
    "except Exception as e:\n",
    "    print(e)\n",
    "    \n",
    "#     \n",
    "for row in rows:\n",
    "    print (\">> \", \"Song Name: \", row.songname, \" || \", \"User First Name: \", row.userfirstname, \" || \", \"User Last Name:\", row.userlastname, \" <<\")"
   ]
  },
  {
   "cell_type": "code",
   "execution_count": 402,
   "metadata": {
    "scrolled": true
   },
   "outputs": [
    {
     "name": "stdout",
     "output_type": "stream",
     "text": [
      "                    songname userfirstname userlastname\n",
      "0  All Hands Against His Own    Jacqueline        Lynch\n",
      "                    songname userfirstname userlastname\n",
      "0  All Hands Against His Own          Sara      Johnson\n",
      "                    songname userfirstname userlastname\n",
      "0  All Hands Against His Own         Tegan       Levine\n"
     ]
    }
   ],
   "source": [
    "# Run select statement to provide answer with Panda (ref https://groups.google.com/a/lists.datastax.com/g/python-driver-user/c/1v-KHtyA0Zs).\n",
    "query = \"SELECT * FROM musicAppHistory_songName_userName WHERE songName='All Hands Against His Own'\"  \n",
    "try:\n",
    "    session.row_factory = dict_factory\n",
    "    df = pd.DataFrame()\n",
    "    for row in session.execute(query):\n",
    "        df = pd.DataFrame(row, index=[0])\n",
    "        print(df)\n",
    "    df = df.reset_index(drop=True).fillna(pd.np.nan)\n",
    "    \n",
    "except Exception as e:\n",
    "    print(e)"
   ]
  },
  {
   "cell_type": "markdown",
   "metadata": {},
   "source": [
    "### Drop the tables before closing out the sessions"
   ]
  },
  {
   "cell_type": "code",
   "execution_count": 403,
   "metadata": {},
   "outputs": [],
   "source": [
    "# Drop table \"musicAppHistory_session_itemInSession\" if it already exists.\n",
    "drop_table_if_exists = \"DROP TABLE IF EXISTS musicAppHistory_session_itemInSession\"\n",
    "\n",
    "try:\n",
    "    session.execute(drop_table_if_exists)\n",
    "except Exception as e:\n",
    "    print(e)"
   ]
  },
  {
   "cell_type": "code",
   "execution_count": 404,
   "metadata": {},
   "outputs": [],
   "source": [
    "# Drop table \"musicAppHistory_user_session_itemInSession\" if it already exists.\n",
    "drop_table_if_exists = \"DROP TABLE IF EXISTS musicAppHistory_user_session_itemInSession\"\n",
    "\n",
    "try:\n",
    "    session.execute(drop_table_if_exists)\n",
    "except Exception as e:\n",
    "    print(e)              "
   ]
  },
  {
   "cell_type": "code",
   "execution_count": 405,
   "metadata": {},
   "outputs": [],
   "source": [
    "# Drop table musicAppHistory_songName_userFirstName_userLastName\" if it already exists.\n",
    "drop_table_if_exists = \"DROP TABLE IF EXISTS musicAppHistory_songName_userName\"\n",
    "\n",
    "try:\n",
    "    session.execute(drop_table_if_exists)\n",
    "except Exception as e:\n",
    "    print(e)              "
   ]
  },
  {
   "cell_type": "markdown",
   "metadata": {},
   "source": [
    "### Close the session and cluster connection¶"
   ]
  },
  {
   "cell_type": "code",
   "execution_count": 406,
   "metadata": {},
   "outputs": [],
   "source": [
    "session.shutdown()\n",
    "cluster.shutdown()"
   ]
  }
 ],
 "metadata": {
  "kernelspec": {
   "display_name": "Python 3",
   "language": "python",
   "name": "python3"
  },
  "language_info": {
   "codemirror_mode": {
    "name": "ipython",
    "version": 3
   },
   "file_extension": ".py",
   "mimetype": "text/x-python",
   "name": "python",
   "nbconvert_exporter": "python",
   "pygments_lexer": "ipython3",
   "version": "3.6.3"
  }
 },
 "nbformat": 4,
 "nbformat_minor": 2
}
